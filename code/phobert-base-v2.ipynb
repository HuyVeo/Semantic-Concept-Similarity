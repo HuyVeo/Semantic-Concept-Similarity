{
 "cells": [
  {
   "metadata": {},
   "cell_type": "markdown",
   "source": "# Embedding Sentence",
   "id": "591d2384acbf10e5"
  },
  {
   "metadata": {},
   "cell_type": "markdown",
   "source": "### 1. So sánh từng cặp gloss 1 với nhau",
   "id": "8f17c6632aa79aa"
  },
  {
   "metadata": {
    "ExecuteTime": {
     "end_time": "2025-10-15T03:49:50.135609Z",
     "start_time": "2025-10-15T03:49:47.830946Z"
    }
   },
   "cell_type": "code",
   "source": [
    "import torch\n",
    "from transformers import AutoTokenizer, AutoModel\n",
    "from underthesea import word_tokenize\n",
    "from sklearn.metrics.pairwise import cosine_similarity\n",
    "import numpy as np\n",
    "\n",
    "# --- Load PhoBERT ---\n",
    "model_name = \"vinai/phobert-base-v2\"\n",
    "tokenizer = AutoTokenizer.from_pretrained(model_name)\n",
    "model = AutoModel.from_pretrained(model_name)\n",
    "model.eval()\n",
    "\n",
    "# --- Dữ liệu gloss ---\n",
    "bien_glosses = [\n",
    "    \"Trong lịch sử toán học, biến số là một số có giá trị bất kỳ.\",\n",
    "    \"Trong lập trình máy tính, một biến là vị trí lưu trữ gắn với tên tượng trưng.\",\n",
    "    \"Kí hiệu như x hay y được sử dụng trong biểu thức toán học.\"\n",
    "]\n",
    "ngap_glosses = [\n",
    "    \"Trong hình học vi phân, phép ngập là ánh xạ khả vi giữa các đa tạp.\",\n",
    "    \"Chảy vượt qua giới hạn hoặc bao phủ với ánh sáng hoặc nước.\"\n",
    "]\n",
    "\n",
    "# --- Hàm lấy embedding cho 1 gloss ---\n",
    "def get_embedding(sentence):\n",
    "    sentence = word_tokenize(sentence, format=\"text\")\n",
    "    input_ids = torch.tensor([tokenizer.encode(sentence)])\n",
    "    with torch.no_grad():\n",
    "        outputs = model(input_ids)[0]\n",
    "        embedding = outputs.mean(dim=1).squeeze(0).numpy()  # mean pooling\n",
    "    return embedding\n",
    "\n",
    "# --- Encode tất cả gloss ---\n",
    "bien_vecs = [get_embedding(g) for g in bien_glosses]\n",
    "ngap_vecs = [get_embedding(g) for g in ngap_glosses]\n",
    "\n",
    "# --- Tính cosine similarity giữa mọi cặp gloss ---\n",
    "sims = []\n",
    "for v1 in bien_vecs:\n",
    "    for v2 in ngap_vecs:\n",
    "        sim = cosine_similarity([v1], [v2])[0][0]\n",
    "        sims.append(sim)\n",
    "\n",
    "# --- Gộp kết quả ---\n",
    "mean_sim = np.mean(sims)\n",
    "max_sim = np.max(sims)\n",
    "\n",
    "print(\"Các giá trị similarity giữa từng cặp gloss:\")\n",
    "for i, sim in enumerate(sims, 1):\n",
    "    print(f\"  Cặp {i}: {sim:.4f}\")\n",
    "\n",
    "print(f\"Mean similarity: {mean_sim:.4f}\")\n",
    "print(f\"Max similarity:  {max_sim:.4f}\")\n"
   ],
   "id": "8ec775ce39959f7",
   "outputs": [
    {
     "name": "stderr",
     "output_type": "stream",
     "text": [
      "Some weights of RobertaModel were not initialized from the model checkpoint at vinai/phobert-base-v2 and are newly initialized: ['pooler.dense.bias', 'pooler.dense.weight']\n",
      "You should probably TRAIN this model on a down-stream task to be able to use it for predictions and inference.\n"
     ]
    },
    {
     "name": "stdout",
     "output_type": "stream",
     "text": [
      "Các giá trị similarity giữa từng cặp gloss:\n",
      "  Cặp 1: 0.6713\n",
      "  Cặp 2: 0.5992\n",
      "  Cặp 3: 0.6801\n",
      "  Cặp 4: 0.6750\n",
      "  Cặp 5: 0.7035\n",
      "  Cặp 6: 0.5612\n",
      "Mean similarity: 0.6484\n",
      "Max similarity:  0.7035\n"
     ]
    }
   ],
   "execution_count": 4
  },
  {
   "metadata": {},
   "cell_type": "markdown",
   "source": "### 2. Gloss-level similarity (mean pooling)",
   "id": "10d49ff4c400623a"
  },
  {
   "metadata": {
    "ExecuteTime": {
     "end_time": "2025-10-15T03:51:17.813845Z",
     "start_time": "2025-10-15T03:51:15.558068Z"
    }
   },
   "cell_type": "code",
   "source": [
    "import torch\n",
    "from transformers import AutoTokenizer, AutoModel\n",
    "from underthesea import word_tokenize\n",
    "from sklearn.metrics.pairwise import cosine_similarity\n",
    "import numpy as np\n",
    "\n",
    "# --- Load model ---\n",
    "model_name = \"vinai/phobert-base-v2\"\n",
    "tokenizer = AutoTokenizer.from_pretrained(model_name)\n",
    "model = AutoModel.from_pretrained(model_name)\n",
    "model.eval()\n",
    "\n",
    "# --- Dữ liệu gloss ---\n",
    "bien_glosses = [\n",
    "    \"Trong lịch sử toán học, biến số là một số có giá trị bất kỳ.\",\n",
    "    \"Trong lập trình máy tính, một biến là vị trí lưu trữ gắn với tên tượng trưng.\",\n",
    "    \"Kí hiệu như x hay y được sử dụng trong biểu thức toán học.\"\n",
    "]\n",
    "ngap_glosses = [\n",
    "    \"Trong hình học vi phân, phép ngập là ánh xạ khả vi giữa các đa tạp.\",\n",
    "    \"Chảy vượt qua giới hạn hoặc bao phủ với ánh sáng hoặc nước.\"\n",
    "]\n",
    "\n",
    "# --- Hàm lấy embedding cho một gloss ---\n",
    "def get_embedding(sentence):\n",
    "    sentence = word_tokenize(sentence, format=\"text\")\n",
    "    input_ids = torch.tensor([tokenizer.encode(sentence)])\n",
    "    with torch.no_grad():\n",
    "        outputs = model(input_ids)[0]           # (batch, seq_len, hidden_dim)\n",
    "        embedding = outputs.mean(dim=1).squeeze(0).numpy()  # mean pooling\n",
    "    return embedding\n",
    "\n",
    "# --- Lấy vector cho tất cả gloss ---\n",
    "bien_vecs = np.array([get_embedding(g) for g in bien_glosses])\n",
    "ngap_vecs = np.array([get_embedding(g) for g in ngap_glosses])\n",
    "\n",
    "# --- Gloss-level aggregation (Mean Pooling) ---\n",
    "v_bien = np.mean(bien_vecs, axis=0, keepdims=True)\n",
    "v_ngap = np.mean(ngap_vecs, axis=0, keepdims=True)\n",
    "\n",
    "# --- Tính cosine similarity giữa hai từ ---\n",
    "sim = cosine_similarity(v_bien, v_ngap)[0][0]\n",
    "print(f\"Gloss-level similarity (mean pooling): {sim:.4f}\")\n"
   ],
   "id": "e98ad6ba2a5b6f0c",
   "outputs": [
    {
     "name": "stderr",
     "output_type": "stream",
     "text": [
      "Some weights of RobertaModel were not initialized from the model checkpoint at vinai/phobert-base-v2 and are newly initialized: ['pooler.dense.bias', 'pooler.dense.weight']\n",
      "You should probably TRAIN this model on a down-stream task to be able to use it for predictions and inference.\n"
     ]
    },
    {
     "name": "stdout",
     "output_type": "stream",
     "text": [
      "Gloss-level similarity (mean pooling): 0.7798\n"
     ]
    }
   ],
   "execution_count": 7
  },
  {
   "metadata": {},
   "cell_type": "code",
   "outputs": [],
   "execution_count": null,
   "source": "",
   "id": "b1c2131841b76361"
  },
  {
   "metadata": {},
   "cell_type": "markdown",
   "source": "# 3. chưa tách từ",
   "id": "1dd9847fe716c421"
  },
  {
   "metadata": {
    "ExecuteTime": {
     "end_time": "2025-10-17T00:59:32.669699Z",
     "start_time": "2025-10-17T00:57:24.112035Z"
    }
   },
   "cell_type": "code",
   "source": [
    "import torch\n",
    "from transformers import AutoTokenizer, AutoModel\n",
    "from sklearn.metrics.pairwise import cosine_similarity\n",
    "import numpy as np\n",
    "import re\n",
    "\n",
    "# Tai model phobertv2\n",
    "model_name = \"vinai/phobert-base-v2\"\n",
    "tokenizer = AutoTokenizer.from_pretrained(model_name)\n",
    "model = AutoModel.from_pretrained(model_name)\n",
    "model.eval()\n",
    "device = torch.device(\"cuda\" if torch.cuda.is_available() else \"cpu\")\n",
    "model.to(device)\n",
    "\n",
    "input = r\"D:\\Semantic-Concept-Similarity\\data\\ BabelNet_combine_WordNet\\BCW_Definitions.txt\"\n",
    "output = r\"D:\\Semantic-Concept-Similarity\\data\\Embedding_BCW\\Embedding_gloss.txt\"\n",
    "\n",
    "def get_embedding(text):\n",
    "    inputs=tokenizer(\n",
    "        text,\n",
    "        return_tensors=\"pt\",\n",
    "        truncation=True,\n",
    "        padding=True,\n",
    "        max_length=256)\n",
    "    inputs = {k: v.to(device) for k, v in inputs.items()}\n",
    "    with torch.no_grad():\n",
    "        outputs = model(**inputs)\n",
    "    embedding = outputs.last_hidden_state.mean(dim=1)\n",
    "    return embedding.squeeze(0).cpu().numpy()\n",
    "\n",
    "with open(input ,\"r\",encoding=\"utf-8\") as f:\n",
    "    gloss_lines = [line.strip() for line in f if line.strip()]\n",
    "\n",
    "embeddings = []\n",
    "\n",
    "for i,line in enumerate(gloss_lines,1):\n",
    "    gloss_list =re.findall(r\"'(.*?)'\",line)\n",
    "    if not gloss_list:\n",
    "        embeddings.append(0)\n",
    "        continue\n",
    "\n",
    "    gloss_vec=[get_embedding(g) for g in gloss_list]\n",
    "\n",
    "    mean_vec = np.mean(gloss_vec, axis=0)\n",
    "    embeddings.append(mean_vec)\n",
    "\n",
    "with open(output ,\"w\",encoding=\"utf-8\") as out:\n",
    "     for vec in embeddings:\n",
    "         out.write(\" \".join([f\"{v}\" for v in vec]) +\"\\n\")\n"
   ],
   "id": "2c5f1df125e4dbec",
   "outputs": [
    {
     "name": "stderr",
     "output_type": "stream",
     "text": [
      "C:\\Users\\ADMIN\\anaconda3\\envs\\python\\Lib\\site-packages\\tqdm\\auto.py:21: TqdmWarning: IProgress not found. Please update jupyter and ipywidgets. See https://ipywidgets.readthedocs.io/en/stable/user_install.html\n",
      "  from .autonotebook import tqdm as notebook_tqdm\n",
      "Some weights of RobertaModel were not initialized from the model checkpoint at vinai/phobert-base-v2 and are newly initialized: ['pooler.dense.bias', 'pooler.dense.weight']\n",
      "You should probably TRAIN this model on a down-stream task to be able to use it for predictions and inference.\n"
     ]
    }
   ],
   "execution_count": 2
  },
  {
   "metadata": {
    "ExecuteTime": {
     "end_time": "2025-10-17T00:59:32.706073Z",
     "start_time": "2025-10-17T00:59:32.699801Z"
    }
   },
   "cell_type": "code",
   "source": [
    "v1= embeddings[0]\n",
    "\n",
    "v2= embeddings[1]\n",
    "\n",
    "sim = cosine_similarity([v1], [v2])[0][0]\n",
    "print(f\"Similarity  {sim:.4f}\")"
   ],
   "id": "e135753af0c1c773",
   "outputs": [
    {
     "name": "stdout",
     "output_type": "stream",
     "text": [
      "Similarity  0.9059\n"
     ]
    }
   ],
   "execution_count": 3
  },
  {
   "metadata": {},
   "cell_type": "markdown",
   "source": "# 4. Tách từ sinh viên => sinh_viên",
   "id": "8529b1580d226154"
  },
  {
   "metadata": {
    "ExecuteTime": {
     "end_time": "2025-10-16T14:56:39.140022Z",
     "start_time": "2025-10-16T14:54:22.831444Z"
    }
   },
   "cell_type": "code",
   "source": [
    "import torch\n",
    "from transformers import AutoTokenizer, AutoModel\n",
    "from sklearn.metrics.pairwise import cosine_similarity\n",
    "import numpy as np\n",
    "import re\n",
    "from underthesea import word_tokenize\n",
    "# Tai model phobertv2\n",
    "model_name = \"vinai/phobert-base-v2\"\n",
    "tokenizer = AutoTokenizer.from_pretrained(model_name)\n",
    "model = AutoModel.from_pretrained(model_name)\n",
    "model.eval()\n",
    "\n",
    "device = torch.device(\"cuda\" if torch.cuda.is_available() else \"cpu\")\n",
    "model.to(device)\n",
    "\n",
    "input = r\"D:\\Semantic-Concept-Similarity\\data\\ BabelNet_combine_WordNet\\BCW_Definitions.txt\"\n",
    "output = r\"D:\\Semantic-Concept-Similarity\\data\\Embedding_BCW\\Embedding_gloss2.txt\"\n",
    "\n",
    "def get_embedding(text):\n",
    "    text_seg = word_tokenize(text, format=\"text\")\n",
    "\n",
    "    inputs=tokenizer(\n",
    "        text_seg,\n",
    "        return_tensors=\"pt\",\n",
    "        truncation=True,\n",
    "        padding=True,\n",
    "        max_length=256)\n",
    "    with torch.no_grad():\n",
    "        outputs = model(**inputs)\n",
    "\n",
    "    embedding = outputs.last_hidden_state.mean(dim=1)\n",
    "    return embedding.squeeze(0).cpu().numpy()\n",
    "\n",
    "with open(input ,\"r\",encoding=\"utf-8\") as f:\n",
    "    gloss_lines = [line.strip() for line in f if line.strip()]\n",
    "\n",
    "embeddings = []\n",
    "\n",
    "for i,line in enumerate(gloss_lines,1):\n",
    "    gloss_list =re.findall(r\"'(.*?)'\",line)\n",
    "    if not gloss_list:\n",
    "        embeddings.append(0)\n",
    "        continue\n",
    "\n",
    "    gloss_vec=[get_embedding(g) for g in gloss_list]\n",
    "\n",
    "    mean_vec = np.mean(gloss_vec, axis=0)\n",
    "    embeddings.append(mean_vec)\n",
    "\n",
    "with open(output ,\"w\",encoding=\"utf-8\") as out:\n",
    "     for vec in embeddings:\n",
    "         out.write(\" \".join([f\"{v}\" for v in vec]) +\"\\n\")\n"
   ],
   "id": "2e62583dd5d150c7",
   "outputs": [
    {
     "name": "stderr",
     "output_type": "stream",
     "text": [
      "C:\\Users\\ADMIN\\anaconda3\\envs\\python\\Lib\\site-packages\\tqdm\\auto.py:21: TqdmWarning: IProgress not found. Please update jupyter and ipywidgets. See https://ipywidgets.readthedocs.io/en/stable/user_install.html\n",
      "  from .autonotebook import tqdm as notebook_tqdm\n",
      "Some weights of RobertaModel were not initialized from the model checkpoint at vinai/phobert-base-v2 and are newly initialized: ['pooler.dense.bias', 'pooler.dense.weight']\n",
      "You should probably TRAIN this model on a down-stream task to be able to use it for predictions and inference.\n"
     ]
    }
   ],
   "execution_count": 2
  },
  {
   "metadata": {
    "ExecuteTime": {
     "end_time": "2025-10-16T15:15:20.128460Z",
     "start_time": "2025-10-16T15:15:20.124198Z"
    }
   },
   "cell_type": "code",
   "source": [
    "v1= embeddings[0]\n",
    "\n",
    "v2= embeddings[1]\n",
    "\n",
    "sim = cosine_similarity([v1], [v2])[0][0]\n",
    "print(f\"Similarity  {sim:.4f}\")"
   ],
   "id": "5bff53edf9ff5269",
   "outputs": [
    {
     "name": "stdout",
     "output_type": "stream",
     "text": [
      "Similarity  0.9072\n"
     ]
    }
   ],
   "execution_count": 11
  },
  {
   "metadata": {},
   "cell_type": "markdown",
   "source": "# Tính Similarity Gloss",
   "id": "4e46a726083959a0"
  },
  {
   "metadata": {
    "ExecuteTime": {
     "end_time": "2025-10-16T15:15:44.976320Z",
     "start_time": "2025-10-16T15:15:44.787516Z"
    }
   },
   "cell_type": "code",
   "source": [
    "import numpy as np\n",
    "from sklearn.metrics.pairwise import cosine_similarity\n",
    "input_file = \"D:\\Semantic-Concept-Similarity\\data\\Embedding_BCW\\Embedding_gloss2.txt\"\n",
    "embeddings = []\n",
    "\n",
    "with open(input_file, \"r\", encoding=\"utf-8\") as f:\n",
    "    for line in f:\n",
    "        values = list(map(float, line.strip().split()))\n",
    "        embeddings.append(values)\n",
    "embeddings = np.array(embeddings) # Lưu vào mảng np\n",
    "\n",
    "similarities = []\n",
    "for i in range(0, len(embeddings), 2):\n",
    "    if i + 1 < len(embeddings):\n",
    "        sim = cosine_similarity([embeddings[i]], [embeddings[i + 1]])[0][0]\n",
    "        similarities.append((i, i + 1, sim))\n",
    "\n",
    "output_file = \"/data/Similarity/Sim_Gloss.txt\"\n",
    "with open(output_file, \"w\", encoding=\"utf-8\") as f:\n",
    "    for (i, j, sim) in similarities:\n",
    "        f.write(f\"{sim}\\n\")\n"
   ],
   "id": "c419c5ecf73696df",
   "outputs": [
    {
     "name": "stderr",
     "output_type": "stream",
     "text": [
      "<>:3: SyntaxWarning: invalid escape sequence '\\S'\n",
      "<>:18: SyntaxWarning: invalid escape sequence '\\S'\n",
      "<>:3: SyntaxWarning: invalid escape sequence '\\S'\n",
      "<>:18: SyntaxWarning: invalid escape sequence '\\S'\n",
      "C:\\Users\\ADMIN\\AppData\\Local\\Temp\\ipykernel_10840\\3337283466.py:3: SyntaxWarning: invalid escape sequence '\\S'\n",
      "  input_file = \"D:\\Semantic-Concept-Similarity\\data\\Embedding_BCW\\Embedding_gloss2.txt\"\n",
      "C:\\Users\\ADMIN\\AppData\\Local\\Temp\\ipykernel_10840\\3337283466.py:18: SyntaxWarning: invalid escape sequence '\\S'\n",
      "  output_file = \"D:\\Semantic-Concept-Similarity\\data\\Similarity\\similarities.txt\"\n"
     ]
    }
   ],
   "execution_count": 12
  }
 ],
 "metadata": {
  "kernelspec": {
   "display_name": "Python 3",
   "language": "python",
   "name": "python3"
  },
  "language_info": {
   "codemirror_mode": {
    "name": "ipython",
    "version": 2
   },
   "file_extension": ".py",
   "mimetype": "text/x-python",
   "name": "python",
   "nbconvert_exporter": "python",
   "pygments_lexer": "ipython2",
   "version": "2.7.6"
  }
 },
 "nbformat": 4,
 "nbformat_minor": 5
}
