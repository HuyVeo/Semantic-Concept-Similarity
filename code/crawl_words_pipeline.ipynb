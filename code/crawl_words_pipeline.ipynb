{
 "cells": [
  {
   "metadata": {},
   "cell_type": "markdown",
   "source": [
    "# Add Các thư viện\n",
    "\n"
   ],
   "id": "866ff98c642d21c1"
  },
  {
   "metadata": {},
   "cell_type": "markdown",
   "source": "### 1. Xử lý dử liệu",
   "id": "57432d2c62662d2a"
  },
  {
   "metadata": {},
   "cell_type": "markdown",
   "source": "### 2. BabelNet",
   "id": "b8afd31450acc44c"
  },
  {
   "metadata": {},
   "cell_type": "markdown",
   "source": "### 3. Crawl4AI (Wiktionary)",
   "id": "7b6eee4fa4cdc7e3"
  },
  {
   "metadata": {},
   "cell_type": "markdown",
   "source": "### 4.Glosbe API (fallback)",
   "id": "95f5fc59377c03fa"
  },
  {
   "metadata": {},
   "cell_type": "markdown",
   "source": "### Main\n",
   "id": "3b87bfc474f1bf85"
  },
  {
   "metadata": {},
   "cell_type": "code",
   "outputs": [],
   "execution_count": null,
   "source": "",
   "id": "7205012f6de455cf"
  }
 ],
 "metadata": {
  "kernelspec": {
   "display_name": "Python 3",
   "language": "python",
   "name": "python3"
  },
  "language_info": {
   "codemirror_mode": {
    "name": "ipython",
    "version": 2
   },
   "file_extension": ".py",
   "mimetype": "text/x-python",
   "name": "python",
   "nbconvert_exporter": "python",
   "pygments_lexer": "ipython2",
   "version": "2.7.6"
  }
 },
 "nbformat": 4,
 "nbformat_minor": 5
}
