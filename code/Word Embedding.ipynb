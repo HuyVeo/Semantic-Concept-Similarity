{
 "cells": [
  {
   "metadata": {},
   "cell_type": "markdown",
   "source": "# Dùng mô hình phoBert-v2 để tạo embedding cho từ",
   "id": "912624dcd493f752"
  },
  {
   "metadata": {
    "collapsed": true,
    "ExecuteTime": {
     "end_time": "2025-10-16T15:42:35.320374Z",
     "start_time": "2025-10-16T15:42:20.680330Z"
    }
   },
   "cell_type": "code",
   "source": [
    "import torch\n",
    "from transformers import AutoTokenizer, AutoModel\n",
    "import numpy as np\n",
    "from underthesea import word_tokenize\n",
    "from tqdm import tqdm\n",
    "\n",
    "input_file = r\"D:\\Semantic-Concept-Similarity\\data\\ BabelNet_combine_WordNet\\BCW_Word.txt\"\n",
    "output_file = r\"D:\\Semantic-Concept-Similarity\\data\\Embedding_BCW\\Embedding_Word.txt\"\n",
    "\n",
    "model_name = \"vinai/phobert-base-v2\"\n",
    "tokenizer = AutoTokenizer.from_pretrained(model_name)\n",
    "model = AutoModel.from_pretrained(model_name)\n",
    "model.eval()\n",
    "\n",
    "device = torch.device(\"cuda\" if torch.cuda.is_available() else \"cpu\")\n",
    "model.to(device)\n",
    "\n",
    "\n",
    "def get_embedding(word):\n",
    "    # tach tu\n",
    "    text_seg = word_tokenize(word, format=\"text\")\n",
    "\n",
    "    inputs = tokenizer(text_seg, return_tensors=\"pt\", truncation=True, padding=True, max_length=32)\n",
    "\n",
    "    # Lấy vector\n",
    "    with torch.no_grad():\n",
    "        outputs = model(**inputs)\n",
    "    embedding = outputs.last_hidden_state.mean(dim=1)\n",
    "    # outputs.last_hidden_state.mean(dim=1) # Mean pooling theo chiều token\n",
    "    # outputs.last_hidden_state[:, 0, :] # [CLS] embedding\n",
    "    # outputs.last_hidden_state.squeeze(0) # Token-level embedding\n",
    "    return embedding.squeeze(0).cpu().numpy()\n",
    "\n",
    "with open(input_file, \"r\", encoding=\"utf-8\") as f:\n",
    "    words = [line.strip() for line in f if line.strip()]\n",
    "\n",
    "print(f\" {len(words)} \")\n",
    "\n",
    "\n",
    "with open(output_file, \"w\", encoding=\"utf-8\") as out:\n",
    "    for word in tqdm(words, desc=\"Đang xử lý\"):\n",
    "        try:\n",
    "            vec = get_embedding(word)\n",
    "            out.write(\" \".join([f\"{v:.6f}\" for v in vec]) + \"\\n\")\n",
    "        except Exception as e:\n",
    "            print(f\"Lỗi ở từ: {word} -> {e}\")\n",
    "\n"
   ],
   "id": "initial_id",
   "outputs": [
    {
     "name": "stderr",
     "output_type": "stream",
     "text": [
      "Some weights of RobertaModel were not initialized from the model checkpoint at vinai/phobert-base-v2 and are newly initialized: ['pooler.dense.bias', 'pooler.dense.weight']\n",
      "You should probably TRAIN this model on a down-stream task to be able to use it for predictions and inference.\n"
     ]
    },
    {
     "name": "stdout",
     "output_type": "stream",
     "text": [
      " 602 \n"
     ]
    },
    {
     "name": "stderr",
     "output_type": "stream",
     "text": [
      "Đang xử lý: 100%|██████████| 602/602 [00:12<00:00, 49.04it/s]\n"
     ]
    }
   ],
   "execution_count": 4
  },
  {
   "metadata": {},
   "cell_type": "markdown",
   "source": "# Similarity Word\n",
   "id": "3ba8cf2b5913f32a"
  },
  {
   "metadata": {
    "ExecuteTime": {
     "end_time": "2025-10-16T15:47:48.663302Z",
     "start_time": "2025-10-16T15:47:48.545013Z"
    }
   },
   "cell_type": "code",
   "source": [
    "import numpy as np\n",
    "from sklearn.metrics.pairwise import cosine_similarity\n",
    "input_file = \"D:\\Semantic-Concept-Similarity\\data\\Embedding_BCW\\Embedding_Word.txt\"\n",
    "embeddings = []\n",
    "\n",
    "with open(input_file, \"r\", encoding=\"utf-8\") as f:\n",
    "    for line in f:\n",
    "        values = list(map(float, line.strip().split()))\n",
    "        embeddings.append(values)\n",
    "embeddings = np.array(embeddings) # Lưu vào mảng np\n",
    "\n",
    "similarities = []\n",
    "for i in range(0, len(embeddings), 2):\n",
    "    if i + 1 < len(embeddings):\n",
    "        sim = cosine_similarity([embeddings[i]], [embeddings[i + 1]])[0][0]\n",
    "        similarities.append((i, i + 1, sim))\n",
    "\n",
    "output_file = \"D:\\Semantic-Concept-Similarity\\data\\Similarity\\Sim_Word.txt\"\n",
    "with open(output_file, \"w\", encoding=\"utf-8\") as f:\n",
    "    for (i, j, sim) in similarities:\n",
    "        f.write(f\"{sim}\\n\")\n"
   ],
   "id": "f344f5b0d5741c9f",
   "outputs": [
    {
     "name": "stderr",
     "output_type": "stream",
     "text": [
      "<>:3: SyntaxWarning: invalid escape sequence '\\S'\n",
      "<>:18: SyntaxWarning: invalid escape sequence '\\S'\n",
      "<>:3: SyntaxWarning: invalid escape sequence '\\S'\n",
      "<>:18: SyntaxWarning: invalid escape sequence '\\S'\n",
      "C:\\Users\\ADMIN\\AppData\\Local\\Temp\\ipykernel_4064\\123957062.py:3: SyntaxWarning: invalid escape sequence '\\S'\n",
      "  input_file = \"D:\\Semantic-Concept-Similarity\\data\\Embedding_BCW\\Embedding_Word.txt\"\n",
      "C:\\Users\\ADMIN\\AppData\\Local\\Temp\\ipykernel_4064\\123957062.py:18: SyntaxWarning: invalid escape sequence '\\S'\n",
      "  output_file = \"D:\\Semantic-Concept-Similarity\\data\\Similarity\\Sim_Word.txt\"\n"
     ]
    }
   ],
   "execution_count": 6
  }
 ],
 "metadata": {
  "kernelspec": {
   "display_name": "Python 3",
   "language": "python",
   "name": "python3"
  },
  "language_info": {
   "codemirror_mode": {
    "name": "ipython",
    "version": 2
   },
   "file_extension": ".py",
   "mimetype": "text/x-python",
   "name": "python",
   "nbconvert_exporter": "python",
   "pygments_lexer": "ipython2",
   "version": "2.7.6"
  }
 },
 "nbformat": 4,
 "nbformat_minor": 5
}
