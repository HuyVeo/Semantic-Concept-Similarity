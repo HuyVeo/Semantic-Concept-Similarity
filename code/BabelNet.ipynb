{
 "cells": [
  {
   "metadata": {},
   "cell_type": "markdown",
   "source": "# Add thư viện\n",
   "id": "d6c4724346ad0081"
  },
  {
   "metadata": {
    "ExecuteTime": {
     "end_time": "2025-10-12T13:18:50.201917Z",
     "start_time": "2025-10-12T13:18:50.132739Z"
    }
   },
   "cell_type": "code",
   "source": "import requests",
   "id": "e56f8bb4329e1891",
   "outputs": [],
   "execution_count": 1
  },
  {
   "metadata": {},
   "cell_type": "markdown",
   "source": "# Lấy Api BabelNet bằng cách lấy đăng nhập",
   "id": "e0433079a09ac636"
  },
  {
   "metadata": {
    "ExecuteTime": {
     "end_time": "2025-10-12T13:20:03.307875Z",
     "start_time": "2025-10-12T13:20:03.305563Z"
    }
   },
   "cell_type": "code",
   "source": "API_KEY = \"\"",
   "id": "a20fe558ffbd3f4c",
   "outputs": [],
   "execution_count": 2
  },
  {
   "metadata": {},
   "cell_type": "markdown",
   "source": "# Requests Babelnet\n",
   "id": "833356cd09891c37"
  },
  {
   "metadata": {
    "ExecuteTime": {
     "end_time": "2025-10-12T13:24:12.490153Z",
     "start_time": "2025-10-12T13:24:12.487083Z"
    }
   },
   "cell_type": "code",
   "source": [
    "input = r\"C:\\Users\\ADMIN\\Downloads\\code\\Visim-400.txt\"\n",
    "output = \"BabelNet_Definitions.txt\""
   ],
   "id": "6f416b4848ff68b3",
   "outputs": [],
   "execution_count": 3
  },
  {
   "metadata": {},
   "cell_type": "markdown",
   "source": "## Get_id",
   "id": "f5119926dfd89d1c"
  },
  {
   "metadata": {
    "ExecuteTime": {
     "end_time": "2025-10-12T13:26:10.410837Z",
     "start_time": "2025-10-12T13:26:10.403859Z"
    }
   },
   "cell_type": "code",
   "source": [
    "def get_synset_ids(word, lang=\"VI\"):\n",
    "    url = f\"https://babelnet.io/v6/getSynsetIds?lemma={word}&searchLang={lang}&key={API_KEY}\"\n",
    "    try:\n",
    "        r = requests.get(url, timeout=10)\n",
    "        if r.status_code == 200:\n",
    "            data = r.json()\n",
    "            return [item[\"id\"] for item in data]\n",
    "    except Exception as e:\n",
    "        print(f\"Lỗi khi lấy SynsetIDs của '{word}': {e}\")\n",
    "    return []"
   ],
   "id": "c258dd68e74c2e6c",
   "outputs": [],
   "execution_count": 4
  },
  {
   "metadata": {},
   "cell_type": "markdown",
   "source": "## Get_Definitions",
   "id": "d0d8b865407add95"
  },
  {
   "metadata": {
    "ExecuteTime": {
     "end_time": "2025-10-12T13:26:12.244741Z",
     "start_time": "2025-10-12T13:26:12.240548Z"
    }
   },
   "cell_type": "code",
   "source": [
    "def get_definitions(synset_id, lang=\"VI\"):\n",
    "    url = f\"https://babelnet.io/v6/getSynset?id={synset_id}&targetLang={lang}&key={API_KEY}\"\n",
    "    try:\n",
    "        r = requests.get(url, timeout=10)\n",
    "        if r.status_code == 200:\n",
    "            data = r.json()\n",
    "            return [d[\"gloss\"] for d in data.get(\"glosses\", []) if d[\"language\"] == lang]\n",
    "    except Exception as e:\n",
    "        print(f\"Lỗi khi lấy definition cho {synset_id}: {e}\")\n",
    "    return []"
   ],
   "id": "4060ec12d334298f",
   "outputs": [],
   "execution_count": 5
  },
  {
   "metadata": {},
   "cell_type": "code",
   "outputs": [],
   "execution_count": null,
   "source": [
    "def main():\n",
    "    results = []\n",
    "    with open(input, \"r\", encoding=\"utf-8\") as f:\n",
    "        next(f)  # bỏ header\n",
    "        for line in f:\n",
    "            parts = line.strip().split(\"\\t\")\n",
    "            if len(parts) >= 2:\n",
    "                for word in [parts[0], parts[1]]:\n",
    "                    ids = get_synset_ids(word)\n",
    "                    defs_all = []\n",
    "                    for sid in ids:\n",
    "                        defs = get_definitions(sid)\n",
    "                        defs_all.extend(defs)\n",
    "\n",
    "                    ids_str = \"[\" + \",\".join(ids) + \"]\" if ids else \"[]\"\n",
    "                    defs_str = \"[\" + \",\".join([f\"'{d}'\" for d in defs_all]) + \"]\" if defs_all else \"[]\"\n",
    "\n",
    "                    results.append((word, ids_str, defs_str))\n",
    "\n",
    "    with open(output, \"w\", encoding=\"utf-8\") as f:\n",
    "        f.write(\"Word,Definitions\\n\")\n",
    "        for word, ids, defs in results:\n",
    "            f.write(f\"{word},{defs}\\n\")\n",
    "\n",
    "    print(f\"\\nĐã lưu kết quả vào {output}\")\n",
    "\n",
    "if __name__ == \"__main__\":\n",
    "    main()"
   ],
   "id": "249ce12418872f8"
  },
  {
   "metadata": {},
   "cell_type": "markdown",
   "source": "## Chỉ lấy dc definitions vì API babel chỉ cho lấy definitions",
   "id": "4b725c43ea40a3df"
  },
  {
   "metadata": {},
   "cell_type": "code",
   "outputs": [],
   "execution_count": null,
   "source": "",
   "id": "3ef8d5bd770ff19"
  }
 ],
 "metadata": {
  "kernelspec": {
   "display_name": "Python 3",
   "language": "python",
   "name": "python3"
  },
  "language_info": {
   "codemirror_mode": {
    "name": "ipython",
    "version": 2
   },
   "file_extension": ".py",
   "mimetype": "text/x-python",
   "name": "python",
   "nbconvert_exporter": "python",
   "pygments_lexer": "ipython2",
   "version": "2.7.6"
  }
 },
 "nbformat": 4,
 "nbformat_minor": 5
}
