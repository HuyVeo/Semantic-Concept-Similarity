{
 "cells": [
  {
   "cell_type": "code",
   "id": "initial_id",
   "metadata": {
    "collapsed": true,
    "ExecuteTime": {
     "end_time": "2025-10-17T01:05:34.480157Z",
     "start_time": "2025-10-17T01:05:31.612048Z"
    }
   },
   "source": [
    "from underthesea import word_tokenize\n",
    "\n",
    "\n",
    "def jaccard_similarity(sent1, sent2):\n",
    "    # tokens1 = set(sent1.lower().split())  # Sim_Jaccard2\n",
    "    # tokens2 = set(sent2.lower().split())\n",
    "    tokens1 = set(word_tokenize(sent1.lower(), format=\"text\").split()) #Sim_Jaccard\n",
    "    tokens2 = set(word_tokenize(sent2.lower(), format=\"text\").split())\n",
    "\n",
    "    intersection = tokens1.intersection(tokens2) #giao\n",
    "    union = tokens1.union(tokens2)\n",
    "\n",
    "    return len(intersection) / len(union) if len(union) > 0 else 0.0\n",
    "\n",
    "\n",
    "input_file = r\"D:\\Semantic-Concept-Similarity\\data\\ BabelNet_combine_WordNet\\BCW_Definitions.txt\"\n",
    "output_file = r\"D:\\Semantic-Concept-Similarity\\data\\Similarity\\Sim_Jaccard.txt\"\n",
    "\n",
    "with open(input_file, \"r\", encoding=\"utf-8\") as f:\n",
    "    gloss_lines = [line.strip() for line in f if line.strip()]\n",
    "\n",
    "print(len(gloss_lines))\n",
    "\n",
    "results = []\n",
    "for i in range(0, len(gloss_lines) - 1, 2):\n",
    "    s1, s2 = gloss_lines[i], gloss_lines[i + 1]\n",
    "    sim = jaccard_similarity(s1, s2)\n",
    "    results.append((i, i + 1, sim))\n",
    "\n",
    "with open(output_file, \"w\", encoding=\"utf-8\") as out:\n",
    "    for i, j, sim in results:\n",
    "        out.write(f\"{sim:4f}\\n\")\n",
    "\n"
   ],
   "outputs": [
    {
     "name": "stdout",
     "output_type": "stream",
     "text": [
      "602\n"
     ]
    }
   ],
   "execution_count": 2
  },
  {
   "metadata": {
    "ExecuteTime": {
     "end_time": "2025-10-17T00:31:11.491622Z",
     "start_time": "2025-10-17T00:31:11.487088Z"
    }
   },
   "cell_type": "code",
   "source": [
    "print(gloss_lines[0])\n",
    "print(gloss_lines[1])"
   ],
   "id": "c4b0704afe961325",
   "outputs": [
    {
     "name": "stdout",
     "output_type": "stream",
     "text": [
      "'kí_hiệu ( như x hay y ) được sử_dụng trong biểu_thức toán_học và lôgic để biểu_diễn cho đại_lượng biến_đổi','làm cho thay_đổi hoặc biến thành một vật nào_đó khác','làm cho có đặc_trưng mới','thay_đổi từ một dạng hay môi_trường này thành một dạng hay môi_trường khác','thay_đổi về bản_chất , mục_đích hoặc chức_năng ở cái gì đó','lượng có_thể nhận một giá_trị bất_kì của một tập_hợp giá_trị','yêu_cầu rời đi ngay_lập_tức','mang đến trạng_thái hoặc điều_kiện thấp_kém hay yếu_kém hơn','đi khỏi hoặc trốn khỏi một_cách bất_ngờ , không để người khác biết','cái mà có_thể biến_đổi','thứ mà chịu sự biến_đổi','được đặc_trưng bởi sự biến_dạng hay thay_đổi về hình_dạng bên ngoài hoặc vật_chất','trở_nên vô_hình hoặc không thấy rõ','tan dần ra xung_quanh , đi khỏi hoặc biến_mất','chạy biến','chạy vắt chân lên cổ','chuồn nhằm thoát_thân','Trong lịch sử toán học, biến số là một số có giá trị bất kỳ, không bắt buộc phải duy nhất có một giá trị, biến số là số có thể thay đổi giá trị trong một tình huống có thể thay đổi.','Trong lập trình máy tính, một biến hay vô hướng là một vị trí lưu trữ gắn liền với một tên tượng trưng liên quan, chứa một số lượng thông tin được biết đến hay chưa được biết đến mà gọi là giá trị.'\n",
      "'chảy vượt qua ( giới_hạn hoặc mép của cái gì )','bao_phủ với ánh_sáng','được bao_phủ hoặc chìm trong chất_lỏng','chuyển vào một trang thái hay tình_trạng được định rõ','lan ra trên diện rộng ( chất_lỏng , màu_sắc hay ánh_sáng )','bao_phủ bởi nước hoặc ngập trong nước','lấp đầy nhanh_chóng vượt ra ngoài sức chứa','như bằng một chất_lỏng','bị phủ bởi nước','lan_rộng vượt qua bề_mặt','trở_nên đầy','có nhiều về số_lượng , tạo ra những âm_thanh xôn_xao','làm cho lây_lan hoặc làm ngập qua , lên trên hoặc ngang qua','Trong hình học vi phân, một phép ngập là một ánh xạ khả vi giữa các đa tạp vi phân sao cho tại mọi điểm, vi phân của nó là một toàn ánh.'\n"
     ]
    }
   ],
   "execution_count": 5
  }
 ],
 "metadata": {
  "kernelspec": {
   "display_name": "Python 3",
   "language": "python",
   "name": "python3"
  },
  "language_info": {
   "codemirror_mode": {
    "name": "ipython",
    "version": 2
   },
   "file_extension": ".py",
   "mimetype": "text/x-python",
   "name": "python",
   "nbconvert_exporter": "python",
   "pygments_lexer": "ipython2",
   "version": "2.7.6"
  }
 },
 "nbformat": 4,
 "nbformat_minor": 5
}
