{
 "cells": [
  {
   "cell_type": "code",
   "id": "initial_id",
   "metadata": {
    "collapsed": true,
    "ExecuteTime": {
     "end_time": "2025-10-13T12:53:59.000267Z",
     "start_time": "2025-10-13T12:53:58.992164Z"
    }
   },
   "source": [
    "# Đọc từ file input.txt\n",
    "with open(\"data/BabelNet/BabelNet_Defimitions.txt\", \"r\", encoding=\"utf-8\") as f:\n",
    "    lines = f.readlines()\n",
    "\n",
    "# Danh sách kết quả sau khi lọc\n",
    "filtered_lines = []\n",
    "\n",
    "for line in lines:\n",
    "    line = line.strip()\n",
    "    if not line:\n",
    "        continue  # bỏ qua dòng trống\n",
    "\n",
    "    # Tách phần định nghĩa giữa []\n",
    "    if \"[\" in line and \"]\" in line:\n",
    "        defs_part = line.split(\"[\", 1)[1].split(\"]\", 1)[0].strip()\n",
    "        if defs_part:  # nếu có nội dung trong []\n",
    "            filtered_lines.append(line)\n",
    "\n",
    "# Ghi ra file output.txt\n",
    "with open(\"data/BabelNet/output.txt\", \"w\", encoding=\"utf-8\") as f:\n",
    "    f.write(\"\\n\".join(filtered_lines))\n",
    "\n",
    "print(\"✅ Đã lọc xong! Kết quả lưu tại output.txt\")\n"
   ],
   "outputs": [
    {
     "name": "stdout",
     "output_type": "stream",
     "text": [
      "✅ Đã lọc xong! Kết quả lưu tại output.txt\n"
     ]
    }
   ],
   "execution_count": 6
  },
  {
   "metadata": {
    "ExecuteTime": {
     "end_time": "2025-10-13T12:54:35.409683Z",
     "start_time": "2025-10-13T12:54:35.387896Z"
    }
   },
   "cell_type": "code",
   "source": "\n",
   "id": "109a12e5202d5309",
   "outputs": [
    {
     "ename": "NameError",
     "evalue": "name 'output' is not defined",
     "output_type": "error",
     "traceback": [
      "\u001B[31m---------------------------------------------------------------------------\u001B[39m",
      "\u001B[31mNameError\u001B[39m                                 Traceback (most recent call last)",
      "\u001B[36mCell\u001B[39m\u001B[36m \u001B[39m\u001B[32mIn[7]\u001B[39m\u001B[32m, line 1\u001B[39m\n\u001B[32m----> \u001B[39m\u001B[32m1\u001B[39m \u001B[43moutput\u001B[49m.txt\n",
      "\u001B[31mNameError\u001B[39m: name 'output' is not defined"
     ]
    }
   ],
   "execution_count": 7
  }
 ],
 "metadata": {
  "kernelspec": {
   "display_name": "Python 3",
   "language": "python",
   "name": "python3"
  },
  "language_info": {
   "codemirror_mode": {
    "name": "ipython",
    "version": 2
   },
   "file_extension": ".py",
   "mimetype": "text/x-python",
   "name": "python",
   "nbconvert_exporter": "python",
   "pygments_lexer": "ipython2",
   "version": "2.7.6"
  }
 },
 "nbformat": 4,
 "nbformat_minor": 5
}
